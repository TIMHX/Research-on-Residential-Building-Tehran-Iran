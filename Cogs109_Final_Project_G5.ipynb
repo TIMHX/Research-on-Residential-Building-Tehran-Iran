{
  "nbformat": 4,
  "nbformat_minor": 0,
  "metadata": {
    "colab": {
      "name": "Cogs109 Final Project G5.ipynb",
      "provenance": [],
      "collapsed_sections": [
        "OZKf49ND4mRD"
      ],
      "toc_visible": true
    },
    "kernelspec": {
      "name": "python3",
      "display_name": "Python 3"
    }
  },
  "cells": [
    {
      "cell_type": "markdown",
      "metadata": {
        "id": "ZKZNqoDKzzxs"
      },
      "source": [
        "# Cogs 109 Final Project G5"
      ]
    },
    {
      "cell_type": "markdown",
      "metadata": {
        "id": "_C3URkUJWIYb"
      },
      "source": [
        "Member:\n",
        "\n",
        "\n",
        "1.   列表项\n",
        "2.   列表项\n",
        "3. Xing Hong A15867895\n"
      ]
    },
    {
      "cell_type": "markdown",
      "metadata": {
        "id": "pxt4HYbUWD9p"
      },
      "source": [
        "**Research Question:**\n",
        "\n",
        "Which of the given physical and economic factors -- \n",
        "1. Wholesale price index (WPI) of building materials for the base year[v13], \n",
        "2. Total floor area of the building [v2], \n",
        "3. Price of the unit at the beginning of the project per m^2 [v8], \n",
        "4. Total floor areas of building permits issued by the city/municipality [v14], \n",
        "5. Population of the city [v28], \n",
        "-- affect the sale price and actual construction price the most? \n",
        "\n",
        "In addition, how do a combination of these factors affect the actual sale price and actual construction cost?\n"
      ]
    },
    {
      "cell_type": "markdown",
      "metadata": {
        "id": "ZRahpPX12Eiz"
      },
      "source": [
        "## Data Description and Variables"
      ]
    },
    {
      "cell_type": "markdown",
      "metadata": {
        "id": "av1Rq2wx2NPI"
      },
      "source": [
        "Data set includes construction cost, sale prices, project variables, and economic variables corresponding to real estate single-family residential apartments in Tehran, Iran.\n",
        "We will collect our data on the repository of uci(download from a previously published dataset), a collection of real estate single-family residential apartments in Tehran, Iran. Link: http://archive.ics.uci.edu/ml/datasets/Residential+Building+Data+Set\n",
        "\n",
        "**Types of analysis:** Regression"
      ]
    },
    {
      "cell_type": "markdown",
      "metadata": {
        "id": "m1uEm95wdSEF"
      },
      "source": [
        "## Importing Modules and Defining an Evaluation Table"
      ]
    },
    {
      "cell_type": "code",
      "metadata": {
        "id": "_EspHBLCdKRf"
      },
      "source": [
        "import numpy as np\n",
        "import pandas as pd \n",
        "import matplotlib.pyplot as plt\n",
        "from mpl_toolkits.mplot3d import Axes3D\n",
        "import seaborn as sns\n",
        "import random\n",
        "from sklearn import linear_model\n",
        "from sklearn.preprocessing import PolynomialFeatures\n",
        "from sklearn.model_selection import train_test_split\n",
        "from sklearn.model_selection import cross_val_score\n",
        "from sklearn import metrics\n",
        "import folium\n",
        "from folium.plugins import HeatMap\n",
        "%matplotlib inline"
      ],
      "execution_count": null,
      "outputs": []
    },
    {
      "cell_type": "code",
      "metadata": {
        "id": "HN8_fE8kc6cq"
      },
      "source": [
        "evaluation = pd.DataFrame({'Model': [],\n",
        "                           'Details':[],\n",
        "                           'Root Mean Squared Error (RMSE)':[],\n",
        "                           'R-squared (training)':[],\n",
        "                           'Adjusted R-squared (training)':[],\n",
        "                           'R-squared (test)':[],\n",
        "                           'Adjusted R-squared (test)':[],\n",
        "                           '5-Fold Cross Validation':[]})"
      ],
      "execution_count": null,
      "outputs": []
    },
    {
      "cell_type": "markdown",
      "metadata": {
        "id": "s4TsiMTad-MM"
      },
      "source": [
        "R^2 adjustment, since R^2 will increase if features increase. Adjusted R^2 only increases, if the addition of the variable reduces the MSE"
      ]
    },
    {
      "cell_type": "code",
      "metadata": {
        "id": "Al2MbqjPeBMb"
      },
      "source": [
        "def adjustedR2(r2,n,k):\n",
        "    return r2-(k-1)/(n-k)*(1-r2)"
      ],
      "execution_count": null,
      "outputs": []
    },
    {
      "cell_type": "markdown",
      "metadata": {
        "id": "OchKKXI_1H9Z"
      },
      "source": [
        "## Data Import\n"
      ]
    },
    {
      "cell_type": "code",
      "metadata": {
        "id": "RHTfCwlF1v1C",
        "colab": {
          "base_uri": "https://localhost:8080/"
        },
        "outputId": "d3cd5aa8-795a-452d-93db-984a6df67296"
      },
      "source": [
        "#extract the data from the first sheet of the original excel \n",
        "#turn it into csv file\n",
        "#make a dataframe df_RB_total from the csv file\n",
        "df_RB_total = pd.read_csv('/content/research_data/Residential-Building-Data-1.csv')\n",
        "df_RB_total.shape"
      ],
      "execution_count": null,
      "outputs": [
        {
          "output_type": "execute_result",
          "data": {
            "text/plain": [
              "(373, 109)"
            ]
          },
          "metadata": {
            "tags": []
          },
          "execution_count": 4
        }
      ]
    },
    {
      "cell_type": "code",
      "metadata": {
        "id": "3CSabPozsqyl"
      },
      "source": [
        "from google.colab import drive\n",
        "drive.mount('/content/drive')"
      ],
      "execution_count": null,
      "outputs": []
    },
    {
      "cell_type": "code",
      "metadata": {
        "colab": {
          "base_uri": "https://localhost:8080/",
          "height": 558
        },
        "id": "6AjplIBPKJsF",
        "outputId": "ecd9963e-862a-410f-daa5-55e5236ddacc"
      },
      "source": [
        "#create another dataframe df_RB_research that contains the columns that are useful for the research\n",
        "df_RB_research = df_RB_total.loc[:,['PROJECT DATES (PERSIAN CALENDAR)','Unnamed: 1','Unnamed: 2',\n",
        "                                    'Unnamed: 3','Unnamed: 5','Unnamed: 11',\n",
        "                                    'Unnamed: 27','Unnamed: 29','OUTPUTS','Unnamed: 108']]\n",
        "df_RB_research = df_RB_research.rename(columns = {'PROJECT DATES (PERSIAN CALENDAR)':\"START YEAR\",'Unnamed: 1':'START QUARTER',\n",
        "                                                  'Unnamed: 2':\"COMPLETION YEAR\",'Unnamed: 3':'COMPLETION QUARTER',\n",
        "                                                  'Unnamed: 5':'TOTAL FLOOR AERA OF THE BUILDING','Unnamed: 11':\n",
        "                                                  'PRICE of the UNIT at the BEGINNING of the PROJECT per m^2',\n",
        "                                                  'Unnamed: 27':'CPI of HOUSING, WATER, FUEL & POWER in the BASE YEAR',\n",
        "                                                  'Unnamed: 29':'POPULATION of the CITY','OUTPUTS':'Actual sales prices (output)',\n",
        "                                                  'Unnamed: 108':'Actual construction costs (output)'},)\n",
        "df_RB_research"
      ],
      "execution_count": null,
      "outputs": [
        {
          "output_type": "execute_result",
          "data": {
            "text/html": [
              "<div>\n",
              "<style scoped>\n",
              "    .dataframe tbody tr th:only-of-type {\n",
              "        vertical-align: middle;\n",
              "    }\n",
              "\n",
              "    .dataframe tbody tr th {\n",
              "        vertical-align: top;\n",
              "    }\n",
              "\n",
              "    .dataframe thead th {\n",
              "        text-align: right;\n",
              "    }\n",
              "</style>\n",
              "<table border=\"1\" class=\"dataframe\">\n",
              "  <thead>\n",
              "    <tr style=\"text-align: right;\">\n",
              "      <th></th>\n",
              "      <th>START YEAR</th>\n",
              "      <th>START QUARTER</th>\n",
              "      <th>COMPLETION YEAR</th>\n",
              "      <th>COMPLETION QUARTER</th>\n",
              "      <th>TOTAL FLOOR AERA OF THE BUILDING</th>\n",
              "      <th>PRICE of the UNIT at the BEGINNING of the PROJECT per m^2</th>\n",
              "      <th>CPI of HOUSING, WATER, FUEL &amp; POWER in the BASE YEAR</th>\n",
              "      <th>POPULATION of the CITY</th>\n",
              "      <th>Actual sales prices (output)</th>\n",
              "      <th>Actual construction costs (output)</th>\n",
              "    </tr>\n",
              "  </thead>\n",
              "  <tbody>\n",
              "    <tr>\n",
              "      <th>0</th>\n",
              "      <td>START YEAR</td>\n",
              "      <td>START QUARTER</td>\n",
              "      <td>COMPLETION YEAR</td>\n",
              "      <td>COMPLETION QUARTER</td>\n",
              "      <td>V-2</td>\n",
              "      <td>V-8</td>\n",
              "      <td>V-26</td>\n",
              "      <td>V-28</td>\n",
              "      <td>V-9</td>\n",
              "      <td>V-10</td>\n",
              "    </tr>\n",
              "    <tr>\n",
              "      <th>1</th>\n",
              "      <td>81.00</td>\n",
              "      <td>1.00</td>\n",
              "      <td>85.00</td>\n",
              "      <td>1.00</td>\n",
              "      <td>3150.00</td>\n",
              "      <td>1200.00</td>\n",
              "      <td>63.25</td>\n",
              "      <td>42587</td>\n",
              "      <td>2200.00</td>\n",
              "      <td>410.00</td>\n",
              "    </tr>\n",
              "    <tr>\n",
              "      <th>2</th>\n",
              "      <td>84.00</td>\n",
              "      <td>1.00</td>\n",
              "      <td>89.00</td>\n",
              "      <td>4.00</td>\n",
              "      <td>7600.00</td>\n",
              "      <td>2900.00</td>\n",
              "      <td>105.32</td>\n",
              "      <td>45966</td>\n",
              "      <td>5000.00</td>\n",
              "      <td>1000.00</td>\n",
              "    </tr>\n",
              "    <tr>\n",
              "      <th>3</th>\n",
              "      <td>78.00</td>\n",
              "      <td>1.00</td>\n",
              "      <td>81.00</td>\n",
              "      <td>4.00</td>\n",
              "      <td>4800.00</td>\n",
              "      <td>630.00</td>\n",
              "      <td>38.34</td>\n",
              "      <td>39066</td>\n",
              "      <td>1200.00</td>\n",
              "      <td>170.00</td>\n",
              "    </tr>\n",
              "    <tr>\n",
              "      <th>4</th>\n",
              "      <td>72.00</td>\n",
              "      <td>2.00</td>\n",
              "      <td>73.00</td>\n",
              "      <td>2.00</td>\n",
              "      <td>685.00</td>\n",
              "      <td>140.00</td>\n",
              "      <td>10.06</td>\n",
              "      <td>8435.75</td>\n",
              "      <td>165.00</td>\n",
              "      <td>30.00</td>\n",
              "    </tr>\n",
              "    <tr>\n",
              "      <th>...</th>\n",
              "      <td>...</td>\n",
              "      <td>...</td>\n",
              "      <td>...</td>\n",
              "      <td>...</td>\n",
              "      <td>...</td>\n",
              "      <td>...</td>\n",
              "      <td>...</td>\n",
              "      <td>...</td>\n",
              "      <td>...</td>\n",
              "      <td>...</td>\n",
              "    </tr>\n",
              "    <tr>\n",
              "      <th>368</th>\n",
              "      <td>83.00</td>\n",
              "      <td>4.00</td>\n",
              "      <td>86.00</td>\n",
              "      <td>1.00</td>\n",
              "      <td>1350.00</td>\n",
              "      <td>830.00</td>\n",
              "      <td>101.89</td>\n",
              "      <td>34474.5</td>\n",
              "      <td>1100.00</td>\n",
              "      <td>150.00</td>\n",
              "    </tr>\n",
              "    <tr>\n",
              "      <th>369</th>\n",
              "      <td>81.00</td>\n",
              "      <td>2.00</td>\n",
              "      <td>82.00</td>\n",
              "      <td>4.00</td>\n",
              "      <td>600.00</td>\n",
              "      <td>570.00</td>\n",
              "      <td>65.65</td>\n",
              "      <td>10927.5</td>\n",
              "      <td>740.00</td>\n",
              "      <td>80.00</td>\n",
              "    </tr>\n",
              "    <tr>\n",
              "      <th>370</th>\n",
              "      <td>84.00</td>\n",
              "      <td>4.00</td>\n",
              "      <td>86.00</td>\n",
              "      <td>3.00</td>\n",
              "      <td>1900.00</td>\n",
              "      <td>640.00</td>\n",
              "      <td>115.7</td>\n",
              "      <td>35322</td>\n",
              "      <td>860.00</td>\n",
              "      <td>220.00</td>\n",
              "    </tr>\n",
              "    <tr>\n",
              "      <th>371</th>\n",
              "      <td>82.00</td>\n",
              "      <td>3.00</td>\n",
              "      <td>84.00</td>\n",
              "      <td>4.00</td>\n",
              "      <td>510.00</td>\n",
              "      <td>790.00</td>\n",
              "      <td>82.89</td>\n",
              "      <td>22417.5</td>\n",
              "      <td>1100.00</td>\n",
              "      <td>110.00</td>\n",
              "    </tr>\n",
              "    <tr>\n",
              "      <th>372</th>\n",
              "      <td>80.00</td>\n",
              "      <td>1.00</td>\n",
              "      <td>81.00</td>\n",
              "      <td>3.00</td>\n",
              "      <td>890.00</td>\n",
              "      <td>350.00</td>\n",
              "      <td>54.26</td>\n",
              "      <td>41407</td>\n",
              "      <td>460.00</td>\n",
              "      <td>50.00</td>\n",
              "    </tr>\n",
              "  </tbody>\n",
              "</table>\n",
              "<p>373 rows × 10 columns</p>\n",
              "</div>"
            ],
            "text/plain": [
              "     START YEAR  ... Actual construction costs (output)\n",
              "0    START YEAR  ...                               V-10\n",
              "1         81.00  ...                             410.00\n",
              "2         84.00  ...                            1000.00\n",
              "3         78.00  ...                             170.00\n",
              "4         72.00  ...                              30.00\n",
              "..          ...  ...                                ...\n",
              "368       83.00  ...                             150.00\n",
              "369       81.00  ...                              80.00\n",
              "370       84.00  ...                             220.00\n",
              "371       82.00  ...                             110.00\n",
              "372       80.00  ...                              50.00\n",
              "\n",
              "[373 rows x 10 columns]"
            ]
          },
          "metadata": {
            "tags": []
          },
          "execution_count": 5
        }
      ]
    },
    {
      "cell_type": "code",
      "metadata": {
        "id": "R-4LVD6FDqi1"
      },
      "source": [
        "#create another dataframe df_RB_research that contains the columns that are useful for the research\n",
        "#df_RB_research['PROJECT DATES (PERSIAN CALENDAR)'] = df_RB_total.loc[:,['PROJECT DATES (PERSIAN CALENDAR)']]\n",
        "##df_RB_research"
      ],
      "execution_count": null,
      "outputs": []
    },
    {
      "cell_type": "code",
      "metadata": {
        "colab": {
          "base_uri": "https://localhost:8080/",
          "height": 281
        },
        "id": "fH6WUJQ2EmCE",
        "outputId": "c954e77d-7a8e-4065-c9d7-954c6155cc0f"
      },
      "source": [
        "df_RB_research.head(3)"
      ],
      "execution_count": null,
      "outputs": [
        {
          "output_type": "execute_result",
          "data": {
            "text/html": [
              "<div>\n",
              "<style scoped>\n",
              "    .dataframe tbody tr th:only-of-type {\n",
              "        vertical-align: middle;\n",
              "    }\n",
              "\n",
              "    .dataframe tbody tr th {\n",
              "        vertical-align: top;\n",
              "    }\n",
              "\n",
              "    .dataframe thead th {\n",
              "        text-align: right;\n",
              "    }\n",
              "</style>\n",
              "<table border=\"1\" class=\"dataframe\">\n",
              "  <thead>\n",
              "    <tr style=\"text-align: right;\">\n",
              "      <th></th>\n",
              "      <th>START YEAR</th>\n",
              "      <th>START QUARTER</th>\n",
              "      <th>COMPLETION YEAR</th>\n",
              "      <th>COMPLETION QUARTER</th>\n",
              "      <th>TOTAL FLOOR AERA OF THE BUILDING</th>\n",
              "      <th>PRICE of the UNIT at the BEGINNING of the PROJECT per m^2</th>\n",
              "      <th>CPI of HOUSING, WATER, FUEL &amp; POWER in the BASE YEAR</th>\n",
              "      <th>POPULATION of the CITY</th>\n",
              "      <th>Actual sales prices (output)</th>\n",
              "      <th>Actual construction costs (output)</th>\n",
              "    </tr>\n",
              "  </thead>\n",
              "  <tbody>\n",
              "    <tr>\n",
              "      <th>0</th>\n",
              "      <td>START YEAR</td>\n",
              "      <td>START QUARTER</td>\n",
              "      <td>COMPLETION YEAR</td>\n",
              "      <td>COMPLETION QUARTER</td>\n",
              "      <td>V-2</td>\n",
              "      <td>V-8</td>\n",
              "      <td>V-26</td>\n",
              "      <td>V-28</td>\n",
              "      <td>V-9</td>\n",
              "      <td>V-10</td>\n",
              "    </tr>\n",
              "    <tr>\n",
              "      <th>1</th>\n",
              "      <td>81.00</td>\n",
              "      <td>1.00</td>\n",
              "      <td>85.00</td>\n",
              "      <td>1.00</td>\n",
              "      <td>3150.00</td>\n",
              "      <td>1200.00</td>\n",
              "      <td>63.25</td>\n",
              "      <td>42587</td>\n",
              "      <td>2200.00</td>\n",
              "      <td>410.00</td>\n",
              "    </tr>\n",
              "    <tr>\n",
              "      <th>2</th>\n",
              "      <td>84.00</td>\n",
              "      <td>1.00</td>\n",
              "      <td>89.00</td>\n",
              "      <td>4.00</td>\n",
              "      <td>7600.00</td>\n",
              "      <td>2900.00</td>\n",
              "      <td>105.32</td>\n",
              "      <td>45966</td>\n",
              "      <td>5000.00</td>\n",
              "      <td>1000.00</td>\n",
              "    </tr>\n",
              "  </tbody>\n",
              "</table>\n",
              "</div>"
            ],
            "text/plain": [
              "   START YEAR  ... Actual construction costs (output)\n",
              "0  START YEAR  ...                               V-10\n",
              "1       81.00  ...                             410.00\n",
              "2       84.00  ...                            1000.00\n",
              "\n",
              "[3 rows x 10 columns]"
            ]
          },
          "metadata": {
            "tags": []
          },
          "execution_count": 6
        }
      ]
    },
    {
      "cell_type": "code",
      "metadata": {
        "colab": {
          "base_uri": "https://localhost:8080/",
          "height": 541
        },
        "id": "mSmVhOGSEsnk",
        "outputId": "ab93c2b8-9ff6-40bf-9590-09337f837d33"
      },
      "source": [
        "#Do data cleaning\n",
        "df_no_first_row = df_RB_research.drop(0).reset_index()\n",
        "df_research = df_no_first_row.dropna()\n",
        "df_research \n"
      ],
      "execution_count": null,
      "outputs": [
        {
          "output_type": "execute_result",
          "data": {
            "text/html": [
              "<div>\n",
              "<style scoped>\n",
              "    .dataframe tbody tr th:only-of-type {\n",
              "        vertical-align: middle;\n",
              "    }\n",
              "\n",
              "    .dataframe tbody tr th {\n",
              "        vertical-align: top;\n",
              "    }\n",
              "\n",
              "    .dataframe thead th {\n",
              "        text-align: right;\n",
              "    }\n",
              "</style>\n",
              "<table border=\"1\" class=\"dataframe\">\n",
              "  <thead>\n",
              "    <tr style=\"text-align: right;\">\n",
              "      <th></th>\n",
              "      <th>index</th>\n",
              "      <th>START YEAR</th>\n",
              "      <th>START QUARTER</th>\n",
              "      <th>COMPLETION YEAR</th>\n",
              "      <th>COMPLETION QUARTER</th>\n",
              "      <th>TOTAL FLOOR AERA OF THE BUILDING</th>\n",
              "      <th>PRICE of the UNIT at the BEGINNING of the PROJECT per m^2</th>\n",
              "      <th>CPI of HOUSING, WATER, FUEL &amp; POWER in the BASE YEAR</th>\n",
              "      <th>POPULATION of the CITY</th>\n",
              "      <th>Actual sales prices (output)</th>\n",
              "      <th>Actual construction costs (output)</th>\n",
              "    </tr>\n",
              "  </thead>\n",
              "  <tbody>\n",
              "    <tr>\n",
              "      <th>0</th>\n",
              "      <td>1</td>\n",
              "      <td>81.00</td>\n",
              "      <td>1.00</td>\n",
              "      <td>85.00</td>\n",
              "      <td>1.00</td>\n",
              "      <td>3150.00</td>\n",
              "      <td>1200.00</td>\n",
              "      <td>63.25</td>\n",
              "      <td>42587</td>\n",
              "      <td>2200.00</td>\n",
              "      <td>410.00</td>\n",
              "    </tr>\n",
              "    <tr>\n",
              "      <th>1</th>\n",
              "      <td>2</td>\n",
              "      <td>84.00</td>\n",
              "      <td>1.00</td>\n",
              "      <td>89.00</td>\n",
              "      <td>4.00</td>\n",
              "      <td>7600.00</td>\n",
              "      <td>2900.00</td>\n",
              "      <td>105.32</td>\n",
              "      <td>45966</td>\n",
              "      <td>5000.00</td>\n",
              "      <td>1000.00</td>\n",
              "    </tr>\n",
              "    <tr>\n",
              "      <th>2</th>\n",
              "      <td>3</td>\n",
              "      <td>78.00</td>\n",
              "      <td>1.00</td>\n",
              "      <td>81.00</td>\n",
              "      <td>4.00</td>\n",
              "      <td>4800.00</td>\n",
              "      <td>630.00</td>\n",
              "      <td>38.34</td>\n",
              "      <td>39066</td>\n",
              "      <td>1200.00</td>\n",
              "      <td>170.00</td>\n",
              "    </tr>\n",
              "    <tr>\n",
              "      <th>3</th>\n",
              "      <td>4</td>\n",
              "      <td>72.00</td>\n",
              "      <td>2.00</td>\n",
              "      <td>73.00</td>\n",
              "      <td>2.00</td>\n",
              "      <td>685.00</td>\n",
              "      <td>140.00</td>\n",
              "      <td>10.06</td>\n",
              "      <td>8435.75</td>\n",
              "      <td>165.00</td>\n",
              "      <td>30.00</td>\n",
              "    </tr>\n",
              "    <tr>\n",
              "      <th>4</th>\n",
              "      <td>5</td>\n",
              "      <td>87.00</td>\n",
              "      <td>1.00</td>\n",
              "      <td>90.00</td>\n",
              "      <td>2.00</td>\n",
              "      <td>3000.00</td>\n",
              "      <td>5000.00</td>\n",
              "      <td>169.5</td>\n",
              "      <td>49572</td>\n",
              "      <td>5500.00</td>\n",
              "      <td>700.00</td>\n",
              "    </tr>\n",
              "    <tr>\n",
              "      <th>...</th>\n",
              "      <td>...</td>\n",
              "      <td>...</td>\n",
              "      <td>...</td>\n",
              "      <td>...</td>\n",
              "      <td>...</td>\n",
              "      <td>...</td>\n",
              "      <td>...</td>\n",
              "      <td>...</td>\n",
              "      <td>...</td>\n",
              "      <td>...</td>\n",
              "      <td>...</td>\n",
              "    </tr>\n",
              "    <tr>\n",
              "      <th>367</th>\n",
              "      <td>368</td>\n",
              "      <td>83.00</td>\n",
              "      <td>4.00</td>\n",
              "      <td>86.00</td>\n",
              "      <td>1.00</td>\n",
              "      <td>1350.00</td>\n",
              "      <td>830.00</td>\n",
              "      <td>101.89</td>\n",
              "      <td>34474.5</td>\n",
              "      <td>1100.00</td>\n",
              "      <td>150.00</td>\n",
              "    </tr>\n",
              "    <tr>\n",
              "      <th>368</th>\n",
              "      <td>369</td>\n",
              "      <td>81.00</td>\n",
              "      <td>2.00</td>\n",
              "      <td>82.00</td>\n",
              "      <td>4.00</td>\n",
              "      <td>600.00</td>\n",
              "      <td>570.00</td>\n",
              "      <td>65.65</td>\n",
              "      <td>10927.5</td>\n",
              "      <td>740.00</td>\n",
              "      <td>80.00</td>\n",
              "    </tr>\n",
              "    <tr>\n",
              "      <th>369</th>\n",
              "      <td>370</td>\n",
              "      <td>84.00</td>\n",
              "      <td>4.00</td>\n",
              "      <td>86.00</td>\n",
              "      <td>3.00</td>\n",
              "      <td>1900.00</td>\n",
              "      <td>640.00</td>\n",
              "      <td>115.7</td>\n",
              "      <td>35322</td>\n",
              "      <td>860.00</td>\n",
              "      <td>220.00</td>\n",
              "    </tr>\n",
              "    <tr>\n",
              "      <th>370</th>\n",
              "      <td>371</td>\n",
              "      <td>82.00</td>\n",
              "      <td>3.00</td>\n",
              "      <td>84.00</td>\n",
              "      <td>4.00</td>\n",
              "      <td>510.00</td>\n",
              "      <td>790.00</td>\n",
              "      <td>82.89</td>\n",
              "      <td>22417.5</td>\n",
              "      <td>1100.00</td>\n",
              "      <td>110.00</td>\n",
              "    </tr>\n",
              "    <tr>\n",
              "      <th>371</th>\n",
              "      <td>372</td>\n",
              "      <td>80.00</td>\n",
              "      <td>1.00</td>\n",
              "      <td>81.00</td>\n",
              "      <td>3.00</td>\n",
              "      <td>890.00</td>\n",
              "      <td>350.00</td>\n",
              "      <td>54.26</td>\n",
              "      <td>41407</td>\n",
              "      <td>460.00</td>\n",
              "      <td>50.00</td>\n",
              "    </tr>\n",
              "  </tbody>\n",
              "</table>\n",
              "<p>372 rows × 11 columns</p>\n",
              "</div>"
            ],
            "text/plain": [
              "     index  ... Actual construction costs (output)\n",
              "0        1  ...                             410.00\n",
              "1        2  ...                            1000.00\n",
              "2        3  ...                             170.00\n",
              "3        4  ...                              30.00\n",
              "4        5  ...                             700.00\n",
              "..     ...  ...                                ...\n",
              "367    368  ...                             150.00\n",
              "368    369  ...                              80.00\n",
              "369    370  ...                             220.00\n",
              "370    371  ...                             110.00\n",
              "371    372  ...                              50.00\n",
              "\n",
              "[372 rows x 11 columns]"
            ]
          },
          "metadata": {
            "tags": []
          },
          "execution_count": 7
        }
      ]
    },
    {
      "cell_type": "code",
      "metadata": {
        "id": "Bl3XlmyUEkpb"
      },
      "source": [
        "# Convert string into values for use\n",
        "df_search = df_research.values\n",
        "# treat the data as array instead of an object\n",
        "df_search = df_search.astype(np.float64)"
      ],
      "execution_count": null,
      "outputs": []
    },
    {
      "cell_type": "markdown",
      "metadata": {
        "id": "e2p7D8ly1fjS"
      },
      "source": [
        "## Data Visualization\n",
        "\n"
      ]
    },
    {
      "cell_type": "code",
      "metadata": {
        "id": "S5iQQnw21xCc"
      },
      "source": [
        "#plot a histagram of TOTAL FLOOR AERA OF THE BUILDING(v2)\n",
        "total_floor = df_research[\"TOTAL FLOOR AERA OF THE BUILDING\"]\n",
        "f1 = sns.distplot(age, kde = False, bins = 25)\n",
        "f1 = plt.gcf()"
      ],
      "execution_count": null,
      "outputs": []
    },
    {
      "cell_type": "markdown",
      "metadata": {
        "id": "-NjZVfpc9Z1p"
      },
      "source": [
        "Bar, Box, Scatter, Scatter 3D, Heat map..."
      ]
    },
    {
      "cell_type": "markdown",
      "metadata": {
        "id": "IIhM7KyV-RXm"
      },
      "source": [
        "## Data Binning and cleaning out the outliers"
      ]
    },
    {
      "cell_type": "code",
      "metadata": {
        "id": "uP71vShG-yt-"
      },
      "source": [
        ""
      ],
      "execution_count": null,
      "outputs": []
    },
    {
      "cell_type": "markdown",
      "metadata": {
        "id": "vLt9eomo1zYQ"
      },
      "source": [
        "## Covariance matrix on the 4 predictors we picked"
      ]
    },
    {
      "cell_type": "code",
      "metadata": {
        "colab": {
          "base_uri": "https://localhost:8080/"
        },
        "id": "PVqCbXqCOzba",
        "outputId": "7cc8f15c-cb3d-465f-9391-b2fdcf13668c"
      },
      "source": [
        "data = df_research.values\n",
        "variable_matrix = data[:,5:9]\n",
        "variable_matrix = variable_matrix.astype(np.float64)\n",
        "mean1 = np.mean(variable_matrix[:,0])\n",
        "mean2 = np.mean(variable_matrix[:,1])\n",
        "mean3 = np.mean(variable_matrix[:,2])\n",
        "mean4 = np.mean(variable_matrix[:,3])\n",
        "mean = np.array([mean1, mean2, mean3, mean4])\n",
        "sample_num = len(variable_matrix[:,0])\n",
        "\n",
        "# zero-mean data matrix\n",
        "Z = variable_matrix.T - np.tile(mean,[sample_num,1]).T\n",
        "# covariance matrix\n",
        "C = np.matmul(Z, Z.T)/(sample_num - 1)\n",
        "C"
      ],
      "execution_count": null,
      "outputs": [
        {
          "output_type": "execute_result",
          "data": {
            "text/plain": [
              "array([[3.24854299e+06, 4.18768911e+05, 8.76318833e+03, 1.40040823e+06],\n",
              "       [4.18768911e+05, 9.91669765e+05, 3.27373603e+04, 2.88229800e+06],\n",
              "       [8.76318833e+03, 3.27373603e+04, 2.67639639e+03, 2.18811519e+05],\n",
              "       [1.40040823e+06, 2.88229800e+06, 2.18811519e+05, 1.92393866e+08]])"
            ]
          },
          "metadata": {
            "tags": []
          },
          "execution_count": 73
        }
      ]
    },
    {
      "cell_type": "markdown",
      "metadata": {
        "id": "uG50CLTgSkr9"
      },
      "source": [
        "### Pearson correlation matrix on the 4 predictors we picked"
      ]
    },
    {
      "cell_type": "code",
      "metadata": {
        "id": "pKP-kOW2iCG3",
        "colab": {
          "base_uri": "https://localhost:8080/",
          "height": 675
        },
        "outputId": "94d840a7-4a67-4ef8-d83b-df7b4d261119"
      },
      "source": [
        "# Simple heatmap on corr\n",
        "plt.figure(figsize=(20, 10))\n",
        "target = pd.DataFrame(variable_matrix)\n",
        "corr = target.corr(method = 'pearson')\n",
        "sns.heatmap(corr,  annot = True)\n",
        "print('Where v2, v8, v26, v28 represent 0, 1, 2, 3, respectively.')\n",
        "print('Note that: ')\n",
        "print('V2: Total floor area of the building') \n",
        "print('v8: Price of the unit at the beginning of the project per m^2') \n",
        "print('v26: CPI of housing, water, fuel and power in the base year')\n",
        "print('v28: population of the city')\n",
        "corr"
      ],
      "execution_count": null,
      "outputs": [
        {
          "output_type": "stream",
          "text": [
            "Where v2, v8, v26, v28 represent 0, 1, 2, 3, respectively.\n",
            "Note that: \n",
            "V2: Total floor area of the building\n",
            "v8: Price of the unit at the beginning of the project per m^2\n",
            "v26: CPI of housing, water, fuel and power in the base year\n",
            "v28: population of the city\n"
          ],
          "name": "stdout"
        },
        {
          "output_type": "execute_result",
          "data": {
            "text/html": [
              "<div>\n",
              "<style scoped>\n",
              "    .dataframe tbody tr th:only-of-type {\n",
              "        vertical-align: middle;\n",
              "    }\n",
              "\n",
              "    .dataframe tbody tr th {\n",
              "        vertical-align: top;\n",
              "    }\n",
              "\n",
              "    .dataframe thead th {\n",
              "        text-align: right;\n",
              "    }\n",
              "</style>\n",
              "<table border=\"1\" class=\"dataframe\">\n",
              "  <thead>\n",
              "    <tr style=\"text-align: right;\">\n",
              "      <th></th>\n",
              "      <th>0</th>\n",
              "      <th>1</th>\n",
              "      <th>2</th>\n",
              "      <th>3</th>\n",
              "    </tr>\n",
              "  </thead>\n",
              "  <tbody>\n",
              "    <tr>\n",
              "      <th>0</th>\n",
              "      <td>1.000000</td>\n",
              "      <td>0.233317</td>\n",
              "      <td>0.093982</td>\n",
              "      <td>0.056016</td>\n",
              "    </tr>\n",
              "    <tr>\n",
              "      <th>1</th>\n",
              "      <td>0.233317</td>\n",
              "      <td>1.000000</td>\n",
              "      <td>0.635455</td>\n",
              "      <td>0.208670</td>\n",
              "    </tr>\n",
              "    <tr>\n",
              "      <th>2</th>\n",
              "      <td>0.093982</td>\n",
              "      <td>0.635455</td>\n",
              "      <td>1.000000</td>\n",
              "      <td>0.304929</td>\n",
              "    </tr>\n",
              "    <tr>\n",
              "      <th>3</th>\n",
              "      <td>0.056016</td>\n",
              "      <td>0.208670</td>\n",
              "      <td>0.304929</td>\n",
              "      <td>1.000000</td>\n",
              "    </tr>\n",
              "  </tbody>\n",
              "</table>\n",
              "</div>"
            ],
            "text/plain": [
              "          0         1         2         3\n",
              "0  1.000000  0.233317  0.093982  0.056016\n",
              "1  0.233317  1.000000  0.635455  0.208670\n",
              "2  0.093982  0.635455  1.000000  0.304929\n",
              "3  0.056016  0.208670  0.304929  1.000000"
            ]
          },
          "metadata": {
            "tags": []
          },
          "execution_count": 82
        },
        {
          "output_type": "display_data",
          "data": {
            "image/png": "[encoded data removed]",
            "text/plain": [
              "<Figure size 1440x720 with 2 Axes>"
            ]
          },
          "metadata": {
            "tags": [],
            "needs_background": "light"
          }
        }
      ]
    },
    {
      "cell_type": "code",
      "metadata": {
        "id": "6TbMemTf2kEt"
      },
      "source": [
        ""
      ],
      "execution_count": null,
      "outputs": []
    },
    {
      "cell_type": "markdown",
      "metadata": {
        "id": "0XZX-38w6pjp"
      },
      "source": [
        "## Data Preprocessing: split into training and test data sets"
      ]
    },
    {
      "cell_type": "code",
      "metadata": {
        "id": "mNBf52nf6sQk"
      },
      "source": [
        "# shuffle and split data\n",
        "df_values = df_research.values\n",
        "df_train, df_test = train_test_split(df_values, test_size = 0.2, train_size = 0.8, shuffle = True)"
      ],
      "execution_count": null,
      "outputs": []
    },
    {
      "cell_type": "markdown",
      "metadata": {
        "id": "WBak_uY02xmZ"
      },
      "source": [
        "## Univariate Regression"
      ]
    },
    {
      "cell_type": "code",
      "metadata": {
        "id": "tbCk2mkB19Ve"
      },
      "source": [
        "# Note that the predictors involved are v2, v8, v26, v28\n",
        "# and v9, 10 are used for regression\n",
        "# V2: Total floor area of the building\n",
        "# v8: Price of the unit at the beginning of the project per m^2\n",
        "# v26: CPI of housing, water, fuel and power in the base year\n",
        "# v28: population of the city\n",
        "# v9(output): Actual sale prices\n",
        "# v10(output): Actual construction costs\n",
        "df_use = df_train"
      ],
      "execution_count": null,
      "outputs": []
    },
    {
      "cell_type": "markdown",
      "metadata": {
        "id": "zxpkeeA13ImQ"
      },
      "source": [
        "### Model 1: Actual Sale Price = w0 + w1*V2 where V2 is Total floor area of the building, and w0, w1 are the weights."
      ]
    },
    {
      "cell_type": "code",
      "metadata": {
        "id": "UhEEQf1J3X1g"
      },
      "source": [
        "v2_model_1 = df_use[:, 5]\n",
        "Actual_Sale_Price_M1 = df_use[:, 9]"
      ],
      "execution_count": null,
      "outputs": []
    },
    {
      "cell_type": "code",
      "metadata": {
        "colab": {
          "base_uri": "https://localhost:8080/"
        },
        "id": "YjO1IZmd_kZ8",
        "outputId": "19c78bd7-41e7-4842-a023-337cb1e5d9c8"
      },
      "source": [
        "## Create A, the augmented data array\n",
        "X = v2_model_1 \n",
        "X = X.astype(np.float64) # X was treated as an object and needed to be floats\n",
        "Y = Actual_Sale_Price_M1\n",
        "Y = np.array(Y)\n",
        "Y = Y.astype(np.float64)\n",
        "\n",
        "ones = np.ones([len(X), ], dtype = int)\n",
        "A = np.vstack((ones, X))\n",
        "A1 = A.transpose()\n",
        "A1.shape"
      ],
      "execution_count": null,
      "outputs": [
        {
          "output_type": "execute_result",
          "data": {
            "text/plain": [
              "(297, 2)"
            ]
          },
          "metadata": {
            "tags": []
          },
          "execution_count": 12
        }
      ]
    },
    {
      "cell_type": "code",
      "metadata": {
        "colab": {
          "base_uri": "https://localhost:8080/"
        },
        "id": "-v68M3agCBq8",
        "outputId": "e840c9e5-ed83-43fe-f226-d1a398b0dd76"
      },
      "source": [
        "## Solve for w, the weight vector\n",
        "ws = np.linalg.lstsq(A1, Y, rcond=None)[0]\n",
        "ws"
      ],
      "execution_count": null,
      "outputs": [
        {
          "output_type": "execute_result",
          "data": {
            "text/plain": [
              "array([1.07230813e+03, 1.71334399e-01])"
            ]
          },
          "metadata": {
            "tags": []
          },
          "execution_count": 13
        }
      ]
    },
    {
      "cell_type": "code",
      "metadata": {
        "colab": {
          "base_uri": "https://localhost:8080/"
        },
        "id": "QZdmruRwVCJQ",
        "outputId": "4d27ec91-2e16-4553-ef9f-5da68a406acd"
      },
      "source": [
        "print('Model1: Actual Sale Price = %f + %f * V2 ' % (ws[0], ws[1]))"
      ],
      "execution_count": null,
      "outputs": [
        {
          "output_type": "stream",
          "text": [
            "Model1: Actual Sale Price = 1072.308127 + 0.171334 * V2 \n"
          ],
          "name": "stdout"
        }
      ]
    },
    {
      "cell_type": "markdown",
      "metadata": {
        "id": "yXTnxXKo3AZT"
      },
      "source": [
        "### Model 2: Actual construction costs = w0 + w1*V2 where V2 is Total floor area of the building, and w0, w1 are the weights."
      ]
    },
    {
      "cell_type": "code",
      "metadata": {
        "colab": {
          "base_uri": "https://localhost:8080/"
        },
        "id": "2WMG7-5D3aI8",
        "outputId": "59eee1af-d887-4920-bddb-03c26112d874"
      },
      "source": [
        "v2_model_2 = df_use[:, 5]\n",
        "Actual_construction_costs = df_use[:, 10]\n",
        "## Create A, the augmented data array\n",
        "X2 = v2_model_2 \n",
        "X2 = X2.astype(np.float64) # X was treated as an object and needed to be floats\n",
        "Y2 = Actual_construction_costs\n",
        "Y2 = np.array(Y2)\n",
        "Y2 = Y2.astype(np.float64)\n",
        "\n",
        "ones2 = np.ones([len(X2), ], dtype = int)\n",
        "A2 = np.vstack((ones2, X2))\n",
        "A22 = A2.transpose()\n",
        "A22.shape # 372 X 2\n",
        "## Solve for w, the weight vector\n",
        "ws2 = np.linalg.lstsq(A22, Y2, rcond=None)[0]\n",
        "print('Model2: Actual construction costs = %f + %f * V2 ' % (ws2[0], ws2[1]))"
      ],
      "execution_count": null,
      "outputs": [
        {
          "output_type": "stream",
          "text": [
            "Model2: Actual construction costs = 189.563721 + 0.022704 * V2 \n"
          ],
          "name": "stdout"
        }
      ]
    },
    {
      "cell_type": "markdown",
      "metadata": {
        "id": "jfMwFJpj3a97"
      },
      "source": [
        "### Model 3: Actual Sale Price = w0 + w1*V8 where V8 is Price of the unit at the beginning of the project per m^2, and w0, w1 are the weights."
      ]
    },
    {
      "cell_type": "code",
      "metadata": {
        "colab": {
          "base_uri": "https://localhost:8080/"
        },
        "id": "DcQEmRYF31qN",
        "outputId": "15fb4d7e-c82d-4cfd-de94-f4175c9729da"
      },
      "source": [
        "v8_model_3 = df_use[:, 6]\n",
        "Actual_Sale_Price = df_use[:, 9]\n",
        "## Create A, the augmented data array\n",
        "X3 = v8_model_3\n",
        "X3 = X3.astype(np.float64) # X was treated as an object and needed to be floats\n",
        "Y3 = Actual_Sale_Price\n",
        "Y3 = np.array(Y3)\n",
        "Y3 = Y3.astype(np.float64)\n",
        "\n",
        "ones3 = np.ones([len(X3), ], dtype = int)\n",
        "A3 = np.vstack((ones3, X3))\n",
        "A33 = A3.transpose()\n",
        "A33.shape # 372 X 2\n",
        "## Solve for w, the weight vector\n",
        "ws3 = np.linalg.lstsq(A33, Y3, rcond=None)[0]\n",
        "print('Model3: Actual Sale Price = %f + %f * V8 ' % (ws3[0], ws3[1]))"
      ],
      "execution_count": null,
      "outputs": [
        {
          "output_type": "stream",
          "text": [
            "Model3: Actual Sale Price = 116.338853 + 1.157924 * V8 \n"
          ],
          "name": "stdout"
        }
      ]
    },
    {
      "cell_type": "markdown",
      "metadata": {
        "id": "qn9qiaPw4RXS"
      },
      "source": [
        "### Model 4: Actual construction costs = w0 + w1*V8 where V8 is Price of the unit at the beginning of the project per m^2, and w0, w1 are the weights."
      ]
    },
    {
      "cell_type": "code",
      "metadata": {
        "colab": {
          "base_uri": "https://localhost:8080/"
        },
        "id": "5AEmwgo94qd3",
        "outputId": "94bd54d8-395d-4816-ad60-869ff69fe558"
      },
      "source": [
        "v8_model_4 = df_use[:, 6]\n",
        "Actual_construction_costs = df_use[:, 10]\n",
        "## Create A, the augmented data array\n",
        "X4 = v8_model_4\n",
        "X4 = X4.astype(np.float64) # X was treated as an object and needed to be floats\n",
        "Y4 = Actual_construction_costs\n",
        "Y4 = np.array(Y4)\n",
        "Y4 = Y4.astype(np.float64)\n",
        "\n",
        "ones4 = np.ones([len(X4), ], dtype = int)\n",
        "A4 = np.vstack((ones4, X4))\n",
        "A44 = A4.transpose()\n",
        "A44.shape # 372 X 2\n",
        "## Solve for w, the weight vector\n",
        "ws4 = np.linalg.lstsq(A44, Y4, rcond=None)[0]\n",
        "print('Model4: Actual construction costs = %f + %f * V8 ' % (ws4[0], ws4[1]))"
      ],
      "execution_count": null,
      "outputs": [
        {
          "output_type": "stream",
          "text": [
            "Model4: Actual construction costs = 91.996348 + 0.126226 * V8 \n"
          ],
          "name": "stdout"
        }
      ]
    },
    {
      "cell_type": "markdown",
      "metadata": {
        "id": "tzW5wBNz4cEQ"
      },
      "source": [
        "### Model 5: Actual Sale Price = w0 + w1*V26 where V26 is CPI of housing, water, fuel and power in the base year, and w0, w1 are the weights."
      ]
    },
    {
      "cell_type": "code",
      "metadata": {
        "colab": {
          "base_uri": "https://localhost:8080/"
        },
        "id": "zsmWr1Cd4bSj",
        "outputId": "6f9c58fe-eba5-4f3a-c229-64e8e161fc49"
      },
      "source": [
        "v26_model_5 = df_use[:, 7]\n",
        "Actual_Sale_Price = df_use[:, 9]\n",
        "## Create A, the augmented data array\n",
        "X5 = v26_model_5\n",
        "X5 = X5.astype(np.float64) # X was treated as an object and needed to be floats\n",
        "Y5 = Actual_Sale_Price\n",
        "Y5 = np.array(Y5)\n",
        "Y5 = Y5.astype(np.float64)\n",
        "\n",
        "ones5 = np.ones([len(X5), ], dtype = int)\n",
        "A5 = np.vstack((ones5, X5))\n",
        "A55 = A5.transpose()\n",
        "A55.shape # 372 X 2\n",
        "## Solve for w, the weight vector\n",
        "ws5 = np.linalg.lstsq(A55, Y5, rcond=None)[0]\n",
        "print('Model5: Actual Sale Price = %f + %f * V26 ' % (ws5[0], ws5[1]))"
      ],
      "execution_count": null,
      "outputs": [
        {
          "output_type": "stream",
          "text": [
            "Model5: Actual Sale Price = 167.972020 + 13.580072 * V26 \n"
          ],
          "name": "stdout"
        }
      ]
    },
    {
      "cell_type": "markdown",
      "metadata": {
        "id": "G4fQG-vY4sHz"
      },
      "source": [
        "### Model 6: Actual construction costs = w0 + w1*V26 where V26 is CPI of housing, water, fuel and power in the base year, and w0, w1 are the weights."
      ]
    },
    {
      "cell_type": "code",
      "metadata": {
        "colab": {
          "base_uri": "https://localhost:8080/"
        },
        "id": "25EdbwiF5Byh",
        "outputId": "8c5fb27c-f3db-4869-d2bf-36a004390930"
      },
      "source": [
        "v26_model_6 = df_use[:, 7]\n",
        "Actual_construction_costs = df_use[:, 10]\n",
        "## Create A, the augmented data array\n",
        "X6 = v26_model_6\n",
        "X6 = X6.astype(np.float64) # X was treated as an object and needed to be floats\n",
        "Y6 = Actual_construction_costs\n",
        "Y6 = np.array(Y6)\n",
        "Y6 = Y6.astype(np.float64)\n",
        "\n",
        "ones6 = np.ones([len(X6), ], dtype = int)\n",
        "A6 = np.vstack((ones6, X6))\n",
        "A66 = A6.transpose()\n",
        "A66.shape # 372 X 2\n",
        "## Solve for w, the weight vector\n",
        "ws6 = np.linalg.lstsq(A66, Y6, rcond=None)[0]\n",
        "print('Model6: Actual construction costs = %f + %f * V26 ' % (ws6[0], ws6[1]))"
      ],
      "execution_count": null,
      "outputs": [
        {
          "output_type": "stream",
          "text": [
            "Model6: Actual construction costs = 19.839798 + 2.370293 * V26 \n"
          ],
          "name": "stdout"
        }
      ]
    },
    {
      "cell_type": "markdown",
      "metadata": {
        "id": "c1PkrSWA42XV"
      },
      "source": [
        "### Model 7: Actual Sale Price = w0 + w1*V28 where V28 is population of the city, and w0, w1 are the weights."
      ]
    },
    {
      "cell_type": "code",
      "metadata": {
        "colab": {
          "base_uri": "https://localhost:8080/"
        },
        "id": "ISKZxZas404q",
        "outputId": "ec8141b4-b7d8-4345-a49f-87c98954ccca"
      },
      "source": [
        "v28_model_7 = df_use[:, 8]\n",
        "Actual_Sale_Price = df_use[:, 9]\n",
        "## Create A, the augmented data array\n",
        "X7 = v28_model_7\n",
        "X7 = X7.astype(np.float64) # X was treated as an object and needed to be floats\n",
        "Y7 = Actual_Sale_Price\n",
        "Y7 = np.array(Y7)\n",
        "Y7 = Y7.astype(np.float64)\n",
        "\n",
        "ones7 = np.ones([len(X7), ], dtype = int)\n",
        "A7 = np.vstack((ones7, X7))\n",
        "A77 = A7.transpose()\n",
        "A77.shape # 372 X 2\n",
        "## Solve for w, the weight vector\n",
        "ws7 = np.linalg.lstsq(A77, Y7, rcond=None)[0]\n",
        "print('Model7: Actual Sale Price = %f + %f * V28 ' % (ws7[0], ws7[1]))"
      ],
      "execution_count": null,
      "outputs": [
        {
          "output_type": "stream",
          "text": [
            "Model7: Actual Sale Price = 790.775005 + 0.020161 * V28 \n"
          ],
          "name": "stdout"
        }
      ]
    },
    {
      "cell_type": "markdown",
      "metadata": {
        "id": "lBp1UCZY5C3S"
      },
      "source": [
        "### Model 8: Actual construction costs = w0 + w1*V28 where V28 is population of the city, and w0, w1 are the weights."
      ]
    },
    {
      "cell_type": "code",
      "metadata": {
        "colab": {
          "base_uri": "https://localhost:8080/"
        },
        "id": "nLTXeqGP5H5d",
        "outputId": "e3923e6a-c0da-4362-b13c-863a243cb38d"
      },
      "source": [
        "v28_model_8 = df_use[:, 8]\n",
        "Actual_construction_costs = df_use[:, 10]\n",
        "## Create A, the augmented data array\n",
        "X8 = v28_model_8\n",
        "X8 = X8.astype(np.float64) # X was treated as an object and needed to be floats\n",
        "Y8 = Actual_construction_costs\n",
        "Y8 = np.array(Y8)\n",
        "Y8 = Y8.astype(np.float64)\n",
        "\n",
        "ones8 = np.ones([len(X8), ], dtype = int)\n",
        "A8 = np.vstack((ones8, X8))\n",
        "A88 = A8.transpose()\n",
        "A88.shape # 372 X 2\n",
        "## Solve for w, the weight vector\n",
        "ws8 = np.linalg.lstsq(A88, Y8, rcond=None)[0]\n",
        "print('Model8: Actual construction costs = %f + %f * V28 ' % (ws8[0], ws8[1]))"
      ],
      "execution_count": null,
      "outputs": [
        {
          "output_type": "stream",
          "text": [
            "Model8: Actual construction costs = 142.392272 + 0.003024 * V28 \n"
          ],
          "name": "stdout"
        }
      ]
    },
    {
      "cell_type": "markdown",
      "metadata": {
        "id": "Mxt0uuTO3iAd"
      },
      "source": [
        "### Graphs of Model 1 to Model 4"
      ]
    },
    {
      "cell_type": "code",
      "metadata": {
        "id": "tYuocPQLgWm2"
      },
      "source": [
        "M1_predict = ws[0] + ws[1] * X\n",
        "M2_predict = ws2[0] + ws2[1] * X2\n",
        "M3_predict = ws3[0] + ws3[1] * X3\n",
        "M4_predict = ws4[0] + ws4[1] * X4"
      ],
      "execution_count": null,
      "outputs": []
    },
    {
      "cell_type": "code",
      "metadata": {
        "id": "In3zLNdk34Dv",
        "colab": {
          "base_uri": "https://localhost:8080/",
          "height": 729
        },
        "outputId": "60d7a347-855b-400b-cee4-640d0bfaab7c"
      },
      "source": [
        "fig1, axes1 = plt.subplots(2, 2, figsize=(25, 25))\n",
        "# Model 1\n",
        "axes1[0][0].scatter(X, Y, s = 2, label = 'data')\n",
        "axes1[0][0].plot(X, M1_predict, color = 'y', label = 'Model_1')\n",
        "axes1[0][0].set(xlabel = 'total floor area of the building', ylabel = 'Actual Sale Price', title = 'Model 1')\n",
        "axes1[0][0].legend()\n",
        "# Model 2\n",
        "axes1[0][1].scatter(X2, Y2, s = 2, label = 'data')\n",
        "axes1[0][1].plot(X2, M2_predict,2, color = 'b', label = 'Model_2')\n",
        "axes1[0][1].set(xlabel = 'total floor area of the building', ylabel = 'Actual constructino costs', title = 'Model 2')\n",
        "axes1[0][1].legend()\n",
        "# Model 3\n",
        "axes1[1][0].scatter(X3, Y3, s = 2, label = 'data')\n",
        "axes1[1][0].plot(X3, M3_predict, color = 'r', label = 'Model_3')\n",
        "axes1[1][0].set(xlabel = 'price of unit at beginning of project per m^2', ylabel = 'Actual Sale Price', title = 'Model 3')\n",
        "axes1[1][0].legend()\n",
        "# Model 4\n",
        "axes1[1][1].scatter(X4, Y4, s = 2, label = 'data')\n",
        "axes1[1][1].plot(X4, M4_predict, color = 'g', label = 'Model_4')\n",
        "axes1[1][1].set(xlabel = 'price of unit at beginning of project per m^2', ylabel = 'Actual constructino costs', title = 'Model 4')\n",
        "axes1[1][1].legend()"
      ],
      "execution_count": null,
      "outputs": [
        {
          "output_type": "execute_result",
          "data": {
            "text/plain": [
              "<matplotlib.legend.Legend at 0x7f2db7c15be0>"
            ]
          },
          "metadata": {
            "tags": []
          },
          "execution_count": 25
        },
        {
          "output_type": "display_data",
          "data": {
            "image/png": "[encoded data removed]",
            "text/plain": [
              "<Figure size 1800x1800 with 4 Axes>"
            ]
          },
          "metadata": {
            "tags": [],
            "needs_background": "light"
          }
        }
      ]
    },
    {
      "cell_type": "markdown",
      "metadata": {
        "id": "MsurQ1Gie-5R"
      },
      "source": [
        "### Graphs of Model 5 to Model 8"
      ]
    },
    {
      "cell_type": "code",
      "metadata": {
        "id": "myByF2Ong7D4"
      },
      "source": [
        "M5_predict = ws5[0] + ws5[1] * X5 \n",
        "M6_predict = ws6[0] + ws6[1] * X6\n",
        "M7_predict = ws7[0] + ws7[1] * X7\n",
        "M8_predict = ws8[0] + ws8[1] * X8"
      ],
      "execution_count": null,
      "outputs": []
    },
    {
      "cell_type": "code",
      "metadata": {
        "colab": {
          "base_uri": "https://localhost:8080/",
          "height": 729
        },
        "id": "FuUgwZ5Ce-CU",
        "outputId": "bd43cd7f-dda4-43d4-b727-0200eedeef11"
      },
      "source": [
        "fig2, axes2 = plt.subplots(2, 2, figsize = (25, 25))\n",
        "# Model 5\n",
        "axes2[0][0].scatter(X5, Y5, s = 2, label = 'data')\n",
        "axes2[0][0].plot(X5, M5_predict,2, color = 'y', label = 'Model_5')\n",
        "axes2[0][0].set(xlabel = 'CPI', ylabel = 'Actual Sale Price', title = 'Model 5')\n",
        "axes2[0][0].legend()\n",
        "# Model 6\n",
        "axes2[0][1].scatter(X6, Y6, s = 2, label = 'data')\n",
        "axes2[0][1].plot(X6, M6_predict,2, color = 'b', label = 'Model_6')\n",
        "axes2[0][1].set(xlabel = 'CPI', ylabel = 'Actual construction costs', title = 'Model 6')\n",
        "axes2[0][1].legend()\n",
        "# Model 7\n",
        "axes2[1][0].scatter(X7, Y7, s = 2, label = 'data')\n",
        "axes2[1][0].plot(X7, M7_predict,2, color = 'r', label = 'Model_7')\n",
        "axes2[1][0].set(xlabel = 'Population of the city', ylabel = 'Actual Sale Price', title = 'Model 7')\n",
        "axes2[1][0].legend()\n",
        "# Model 8\n",
        "axes2[1][1].scatter(X8, Y8, s = 2, label = 'data')\n",
        "axes2[1][1].plot(X8, M8_predict,2, color = 'g', label = 'Model_8')\n",
        "axes2[1][1].set(xlabel = 'Population of the city', ylabel = 'Actual construction costs', title = 'Model 8')\n",
        "axes2[1][1].legend()"
      ],
      "execution_count": null,
      "outputs": [
        {
          "output_type": "execute_result",
          "data": {
            "text/plain": [
              "<matplotlib.legend.Legend at 0x7f2db79cafd0>"
            ]
          },
          "metadata": {
            "tags": []
          },
          "execution_count": 27
        },
        {
          "output_type": "display_data",
          "data": {
            "image/png": "[encoded data removed]",
            "text/plain": [
              "<Figure size 1800x1800 with 4 Axes>"
            ]
          },
          "metadata": {
            "tags": [],
            "needs_background": "light"
          }
        }
      ]
    },
    {
      "cell_type": "markdown",
      "metadata": {
        "id": "_d1MQ0Q4HjHT"
      },
      "source": [
        "### Cross Valitation:"
      ]
    },
    {
      "cell_type": "markdown",
      "metadata": {
        "id": "juXM6Dh137wq"
      },
      "source": [
        "### MSE of Model 1 to Model 8 for training data"
      ]
    },
    {
      "cell_type": "code",
      "metadata": {
        "id": "mdXZ4HXM369j"
      },
      "source": [
        "sample_size = len(v2_model_1)\n",
        "MSE_model1 = ((Y - M1_predict)**2).sum()/sample_size\n",
        "MSE_model2 = ((Y2 - M2_predict)**2).sum()/sample_size\n",
        "MSE_model3 = ((Y3 - M3_predict)**2).sum()/sample_size\n",
        "MSE_model4 = ((Y4 - M4_predict)**2).sum()/sample_size\n",
        "MSE_model5 = ((Y5 - M5_predict)**2).sum()/sample_size\n",
        "MSE_model6 = ((Y6 - M6_predict)**2).sum()/sample_size\n",
        "MSE_model7 = ((Y7 - M7_predict)**2).sum()/sample_size\n",
        "MSE_model8 = ((Y8 - M8_predict)**2).sum()/sample_size"
      ],
      "execution_count": null,
      "outputs": []
    },
    {
      "cell_type": "code",
      "metadata": {
        "colab": {
          "base_uri": "https://localhost:8080/",
          "height": 349
        },
        "id": "uxLyOq_hlxbf",
        "outputId": "fa2d2d6f-e9ff-4382-f7fd-4b78cd4ad725"
      },
      "source": [
        "MSE_xaxis = ['Model1','Model2','Model3','Model4','Model5','Model6','Model7','Model8']\n",
        "MSE_yaxis = [MSE_model1,MSE_model2,MSE_model3,MSE_model4,MSE_model5,MSE_model6,\n",
        "             MSE_model7,MSE_model8]\n",
        "plt.bar(MSE_xaxis, MSE_yaxis)\n",
        "plt.title('MSE for each model from model 1 to model 8 on training data')\n",
        "plt.show()\n",
        "print('Model_1 MSE is %f , Model_2 MSE is %f , ' % (MSE_yaxis[0],MSE_yaxis[1]))\n",
        "print('Model_3 MSE is %f , Model_4 MSE is %f , ' % (MSE_yaxis[2],MSE_yaxis[3]))\n",
        "print('Model_5 MSE is %f , Model_6 MSE is %f , ' % (MSE_yaxis[4],MSE_yaxis[5]))\n",
        "print('Model_7 MSE is %f , Model_8 MSE is %f , ' % (MSE_yaxis[6],MSE_yaxis[7]))"
      ],
      "execution_count": null,
      "outputs": [
        {
          "output_type": "display_data",
          "data": {
            "image/png": "[encoded data removed]",
            "text/plain": [
              "<Figure size 432x288 with 1 Axes>"
            ]
          },
          "metadata": {
            "tags": [],
            "needs_background": "light"
          }
        },
        {
          "output_type": "stream",
          "text": [
            "Model_1 MSE is 1279732.952332 , Model_2 MSE is 22895.045274 , \n",
            "Model_3 MSE is 53718.173649 , Model_4 MSE is 8785.591610 , \n",
            "Model_5 MSE is 857204.148619 , Model_6 MSE is 8977.676424 , \n",
            "Model_7 MSE is 1283422.968778 , Model_8 MSE is 22578.065694 , \n"
          ],
          "name": "stdout"
        }
      ]
    },
    {
      "cell_type": "markdown",
      "metadata": {
        "id": "Yxm3hiXL4f0f"
      },
      "source": [
        "### MSE of Model 1 to Model 8 for test data"
      ]
    },
    {
      "cell_type": "code",
      "metadata": {
        "id": "QrTjAF694jhf"
      },
      "source": [
        "test_samplesize = len(df_test[:,5])\n",
        "y_saleprice_test = df_test[:,9]\n",
        "y_saleprice_test = y_saleprice_test.astype(np.float64)\n",
        "y_constrPrice_test = df_test[:,10]\n",
        "y_constrPrice_test = y_constrPrice_test.astype(np.float64)\n",
        "v2_test = df_test[:,5]\n",
        "v2_test = v2_test.astype(np.float64)\n",
        "v8_test = df_test[:,6]\n",
        "v8_test = v8_test.astype(np.float64)\n",
        "v26_test = df_test[:,7]\n",
        "v26_test = v26_test.astype(np.float64)\n",
        "v28_test = df_test[:,8]\n",
        "v28_test = v28_test.astype(np.float64)\n",
        "\n",
        "M1_test_predict = ws[0] + ws[1] * v2_test\n",
        "M2_test_predict = ws2[0] + ws2[1] * v2_test\n",
        "M3_test_predict = ws3[0] + ws3[1] * v8_test\n",
        "M4_test_predict = ws4[0] + ws4[1] * v8_test\n",
        "M5_test_predict = ws5[0] + ws5[1] * v26_test\n",
        "M6_test_predict = ws6[0] + ws6[1] * v26_test\n",
        "M7_test_predict = ws7[0] + ws7[1] * v28_test\n",
        "M8_test_predict = ws8[0] + ws8[1] * v28_test"
      ],
      "execution_count": null,
      "outputs": []
    },
    {
      "cell_type": "code",
      "metadata": {
        "id": "t4CVOk19JiCu"
      },
      "source": [
        "MSE_model1_test = ((y_saleprice_test - M1_test_predict)**2).sum()/test_samplesize\n",
        "MSE_model2_test = ((y_constrPrice_test - M2_test_predict)**2).sum()/test_samplesize\n",
        "MSE_model3_test = ((y_saleprice_test - M3_test_predict)**2).sum()/test_samplesize\n",
        "MSE_model4_test = ((y_constrPrice_test - M4_test_predict)**2).sum()/test_samplesize\n",
        "MSE_model5_test = ((y_saleprice_test - M5_test_predict)**2).sum()/test_samplesize\n",
        "MSE_model6_test = ((y_constrPrice_test - M6_test_predict)**2).sum()/test_samplesize\n",
        "MSE_model7_test = ((y_saleprice_test - M7_test_predict)**2).sum()/test_samplesize\n",
        "MSE_model8_test = ((y_constrPrice_test - M8_test_predict)**2).sum()/test_samplesize"
      ],
      "execution_count": null,
      "outputs": []
    },
    {
      "cell_type": "code",
      "metadata": {
        "colab": {
          "base_uri": "https://localhost:8080/",
          "height": 366
        },
        "id": "8UZoTN2tNOfO",
        "outputId": "6287def0-8b2b-460a-9bff-a0137fdf631a"
      },
      "source": [
        "test_MSE_xaxis = ['Model1','Model2','Model3','Model4','Model5','Model6','Model7','Model8']\n",
        "test_MSE_yaxis = [MSE_model1_test,MSE_model2_test,MSE_model3_test,\n",
        "                  MSE_model4_test,MSE_model5_test,MSE_model6_test,\n",
        "             MSE_model7_test,MSE_model8_test]\n",
        "plt.bar(test_MSE_xaxis, test_MSE_yaxis)\n",
        "plt.title('MSE for each model from model 1 to model 8 on test data')\n",
        "plt.show()\n",
        "print('On test data, ')\n",
        "print('Model_1 test MSE is %f , Model_2 test MSE is %f , ' % (test_MSE_yaxis[0],test_MSE_yaxis[1]))\n",
        "print('Model_3 test MSE is %f , Model_4 test MSE is %f , ' % (test_MSE_yaxis[2],test_MSE_yaxis[3]))\n",
        "print('Model_5 test MSE is %f , Model_6 test MSE is %f , ' % (test_MSE_yaxis[4],test_MSE_yaxis[5]))\n",
        "print('Model_7 test MSE is %f , Model_8 test MSE is %f , ' % (test_MSE_yaxis[6],test_MSE_yaxis[7]))"
      ],
      "execution_count": null,
      "outputs": [
        {
          "output_type": "display_data",
          "data": {
            "image/png": "[encoded data removed]",
            "text/plain": [
              "<Figure size 432x288 with 1 Axes>"
            ]
          },
          "metadata": {
            "tags": [],
            "needs_background": "light"
          }
        },
        {
          "output_type": "stream",
          "text": [
            "On test data, \n",
            "Model_1 test MSE is 1664187.955116 , Model_2 test MSE is 31841.665487 , \n",
            "Model_3 test MSE is 126058.035508 , Model_4 test MSE is 14490.862380 , \n",
            "Model_5 test MSE is 1158851.238397 , Model_6 test MSE is 16411.697436 , \n",
            "Model_7 test MSE is 1808619.103112 , Model_8 test MSE is 31448.577034 , \n"
          ],
          "name": "stdout"
        }
      ]
    },
    {
      "cell_type": "markdown",
      "metadata": {
        "id": "OZKf49ND4mRD"
      },
      "source": [
        "### Conclusion"
      ]
    },
    {
      "cell_type": "markdown",
      "metadata": {
        "id": "Cb1DaMGn4puX"
      },
      "source": [
        "## Multivariate linear regression"
      ]
    },
    {
      "cell_type": "markdown",
      "metadata": {
        "id": "mMKR5mGK_NIY"
      },
      "source": [
        "Multivariate linear regression on 2 variables in 5 of features we picked,\n",
        "\n",
        "$Actual Sale Price = W_{0}+ W_{1}V_{26}+ W_{2}V_{28}$"
      ]
    },
    {
      "cell_type": "code",
      "metadata": {
        "id": "uZQZtLYZ_UDL"
      },
      "source": [
        ""
      ],
      "execution_count": null,
      "outputs": []
    },
    {
      "cell_type": "markdown",
      "metadata": {
        "id": "jkjDl32e5ahO"
      },
      "source": [
        "### Multi-3, Chosen 3 Variables: X, Y, Z"
      ]
    },
    {
      "cell_type": "markdown",
      "metadata": {
        "id": "aPEQZTwx4x-f"
      },
      "source": [
        "M-31: $Price = A_{0}+ A_{1}x_{1}+ A_{2}x_{2}+ A_{3}x_{3}$\n",
        "\n",
        "M-32: $Price = A_{0}+ A_{1}x_{1}+ A_{2}x_{2}+ A_{3}x_{3}$"
      ]
    },
    {
      "cell_type": "code",
      "metadata": {
        "id": "HdcHnhhQ41ul"
      },
      "source": [
        "train_data_dm,test_data_dm = train_test_split(df_dm,train_size = 0.8,random_state=3)\n",
        "\n",
        "features = [XXXXXXXXX] #3-features?\n",
        "complex_model_1 = linear_model.LinearRegression()\n",
        "complex_model_1.fit(train_data_dm[features],train_data_dm[XXXXX]) #price?\n",
        "\n",
        "print('Intercept: {}'.format(complex_model_1.intercept_))\n",
        "print('Coefficients: {}'.format(complex_model_1.coef_))"
      ],
      "execution_count": null,
      "outputs": []
    },
    {
      "cell_type": "code",
      "metadata": {
        "id": "Pa_wG_dGlw3_"
      },
      "source": [
        "features = [XXXXXXXXX] # different 3-features\n",
        "complex_model_1 = linear_model.LinearRegression()\n",
        "complex_model_1.fit(train_data_dm[features],train_data_dm[XXXXX]) #price?\n",
        "\n",
        "print('Intercept: {}'.format(complex_model_1.intercept_))\n",
        "print('Coefficients: {}'.format(complex_model_1.coef_))"
      ],
      "execution_count": null,
      "outputs": []
    },
    {
      "cell_type": "markdown",
      "metadata": {
        "id": "ycv3xJE15BNZ"
      },
      "source": [
        "#### Summary of M-31 and M-32:"
      ]
    },
    {
      "cell_type": "code",
      "metadata": {
        "id": "wa7MGSYD5ERO"
      },
      "source": [
        "pred = complex_model_1.predict(test_data_dm[features])\n",
        "rmse = float(format(np.sqrt(metrics.mean_squared_error(test_data_dm['price'],pred)),'.3f'))\n",
        "rtr = float(format(complex_model_1.score(train_data_dm[features],train_data_dm['price']),'.3f'))\n",
        "artr = float(format(adjustedR2(complex_model_1.score(train_data_dm[features],train_data_dm['price']),train_data_dm.shape[0],len(features)),'.3f'))\n",
        "rte = float(format(complex_model_1.score(test_data_dm[features],test_data_dm['price']),'.3f'))\n",
        "arte = float(format(adjustedR2(complex_model_1.score(test_data_dm[features],test_data['price']),test_data_dm.shape[0],len(features)),'.3f'))\n",
        "cv5 = float(format(cross_val_score(complex_model_1,df_dm[features],df_dm['price'],cv=5).mean(),'.3f'))\n",
        "\n",
        "r = evaluation.shape[0]\n",
        "evaluation.loc[r] = ['Multiple Regression-1','selected features',rmsecm,rtrcm,artrcm,rtecm,artecm,cv5]\n",
        "evaluation.sort_values(by = '5-Fold Cross Validation', ascending=False)"
      ],
      "execution_count": null,
      "outputs": []
    },
    {
      "cell_type": "markdown",
      "metadata": {
        "id": "5ycVTzX85sD3"
      },
      "source": [
        "#### 3D graphs of the M-3"
      ]
    },
    {
      "cell_type": "code",
      "metadata": {
        "id": "cJIiDMfj9SWT"
      },
      "source": [
        "fig=plt.figure(figsize=(9.5,6.25))\n",
        "ax=fig.add_subplot(1,1,1, projection=\"3d\")\n",
        "ax.scatter(train_data[XXXX],train_data[XXXXX],train_data[XXXXX],c=\"darkgreen\",alpha=.5)\n",
        "ax.set(xlabel='\\nXXXXX',ylabel='\\nXXXXX',zlabel='\\nXXXXX');"
      ],
      "execution_count": null,
      "outputs": []
    },
    {
      "cell_type": "markdown",
      "metadata": {
        "id": "gAvuKHBm7R30"
      },
      "source": [
        "### Multi-4, Chosen 4 Variables: A,B,C,D"
      ]
    },
    {
      "cell_type": "markdown",
      "metadata": {
        "id": "UeojtIQW7Y9B"
      },
      "source": [
        "M-4: $Price = A_{0}+ A_{1}x_{1}+ A_{2}x_{2}+ A_{3}x_{3} + A_{4}x_{4}$"
      ]
    },
    {
      "cell_type": "code",
      "metadata": {
        "id": "KUiWuhu67glR"
      },
      "source": [
        "train_data_dm,test_data_dm = train_test_split(df_dm,train_size = 0.8,random_state=3)\n",
        "\n",
        "features = [XXXXXXXXX] #4-features?\n",
        "complex_model_1 = linear_model.LinearRegression()\n",
        "complex_model_1.fit(train_data_dm[features],train_data_dm[XXXXX]) #price?\n",
        "\n",
        "print('Intercept: {}'.format(complex_model_1.intercept_))\n",
        "print('Coefficients: {}'.format(complex_model_1.coef_))"
      ],
      "execution_count": null,
      "outputs": []
    },
    {
      "cell_type": "markdown",
      "metadata": {
        "id": "KH5QwR1J7hhb"
      },
      "source": [
        "#### Summary of M-4"
      ]
    },
    {
      "cell_type": "markdown",
      "metadata": {
        "id": "TkW-iQb57kZt"
      },
      "source": [
        "### Multi-5, 5 Variables: X1, X2, ..."
      ]
    },
    {
      "cell_type": "markdown",
      "metadata": {
        "id": "m0CVFd7p7sk9"
      },
      "source": [
        "M-5:....."
      ]
    },
    {
      "cell_type": "code",
      "metadata": {
        "id": "ivwHbRy47w5k"
      },
      "source": [
        ""
      ],
      "execution_count": null,
      "outputs": []
    },
    {
      "cell_type": "markdown",
      "metadata": {
        "id": "6HKAL-sO8F7O"
      },
      "source": [
        ""
      ]
    },
    {
      "cell_type": "markdown",
      "metadata": {
        "id": "LWXbVdrj7ywF"
      },
      "source": [
        "#### Summary of M-5"
      ]
    },
    {
      "cell_type": "markdown",
      "metadata": {
        "id": "KrdH0_mf8Ew0"
      },
      "source": [
        "## Polynomial Regression"
      ]
    },
    {
      "cell_type": "markdown",
      "metadata": {
        "id": "YbrdyuDa8K7a"
      },
      "source": [
        "### Degree 2, All features"
      ]
    },
    {
      "cell_type": "markdown",
      "metadata": {
        "id": "Ik9dQZwE8YZE"
      },
      "source": [
        "### Degree 2, selected features"
      ]
    },
    {
      "cell_type": "markdown",
      "metadata": {
        "id": "1Z5BEsIV8foh"
      },
      "source": [
        "### Degree 3, All features"
      ]
    },
    {
      "cell_type": "markdown",
      "metadata": {
        "id": "ZOoA7nGS8f_C"
      },
      "source": [
        "### Degree 3, selected features"
      ]
    },
    {
      "cell_type": "markdown",
      "metadata": {
        "id": "_XF-esjc8wMB"
      },
      "source": [
        "## Evaluation Table for All Models"
      ]
    },
    {
      "cell_type": "code",
      "metadata": {
        "id": "URxTGEMn80ua"
      },
      "source": [
        ""
      ],
      "execution_count": null,
      "outputs": []
    },
    {
      "cell_type": "markdown",
      "metadata": {
        "id": "ST0t2kQH85WS"
      },
      "source": [
        "## Conclusion"
      ]
    }
  ]
}